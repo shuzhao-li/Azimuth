{
 "cells": [
  {
   "cell_type": "markdown",
   "metadata": {},
   "source": [
    "# Porting genome scale metabolic models for metabolomics (RECON3D)\n",
    "\n",
    "- to make formats compatible to mummichog\n",
    "- to link to a common compound table \n",
    "- from compound table, we generated predicted mass peaks based on formula\n",
    "\n",
    "As mummichog 3 is under development, treat this as part of development.\n",
    "\n",
    "**Use cobra to parse SBML models whereas applicable**\n",
    "\n",
    "Not all models comply with the formats in cobra. Models from USCD and Thiele labs should comply.\n",
    "\n",
    "**Base our code on metDataModel**\n",
    "\n",
    "Each model needs a list of Reactions, list of Pathways, and a list of Compounds.\n",
    "It's important to include with Compounds with all linked identifiers to other DBs (HMDB, PubChem, etc), and with formulae (usually charged form in these models) when available.\n",
    "We can alwasy update the data later. E.g. the neural formulae can be retrieved from HMDB if linked.\n",
    "Save in Python pickle and in JSON.\n",
    "\n",
    "Shuzhao Li, 2021-05-10"
   ]
  },
  {
   "cell_type": "code",
   "execution_count": 1,
   "metadata": {},
   "outputs": [
    {
     "name": "stdout",
     "output_type": "stream",
     "text": [
      "Requirement already satisfied: cobra in /opt/conda/lib/python3.7/site-packages (0.22.0)\n",
      "Requirement already satisfied: future in /opt/conda/lib/python3.7/site-packages (from cobra) (0.18.2)\n",
      "Requirement already satisfied: swiglpk in /opt/conda/lib/python3.7/site-packages (from cobra) (5.0.3)\n",
      "Requirement already satisfied: pandas~=1.0 in /opt/conda/lib/python3.7/site-packages (from cobra) (1.2.4)\n",
      "Requirement already satisfied: httpx~=0.14 in /opt/conda/lib/python3.7/site-packages (from cobra) (0.18.1)\n",
      "Requirement already satisfied: rich>=8.0 in /opt/conda/lib/python3.7/site-packages (from cobra) (10.1.0)\n",
      "Requirement already satisfied: numpy~=1.13 in /opt/conda/lib/python3.7/site-packages (from cobra) (1.17.2)\n",
      "Requirement already satisfied: diskcache~=5.0 in /opt/conda/lib/python3.7/site-packages (from cobra) (5.2.1)\n",
      "Requirement already satisfied: appdirs~=1.4 in /opt/conda/lib/python3.7/site-packages (from cobra) (1.4.4)\n",
      "Requirement already satisfied: optlang~=1.5 in /opt/conda/lib/python3.7/site-packages (from cobra) (1.5.2)\n",
      "Requirement already satisfied: pydantic~=1.6 in /opt/conda/lib/python3.7/site-packages (from cobra) (1.8.1)\n",
      "Requirement already satisfied: python-libsbml==5.19.0 in /opt/conda/lib/python3.7/site-packages (from cobra) (5.19.0)\n",
      "Requirement already satisfied: importlib-resources in /opt/conda/lib/python3.7/site-packages (from cobra) (5.1.2)\n",
      "Requirement already satisfied: ruamel.yaml~=0.16 in /opt/conda/lib/python3.7/site-packages (from cobra) (0.17.4)\n",
      "Requirement already satisfied: depinfo in /opt/conda/lib/python3.7/site-packages (from cobra) (1.7.0)\n",
      "Requirement already satisfied: python-dateutil>=2.7.3 in /opt/conda/lib/python3.7/site-packages (from pandas~=1.0->cobra) (2.8.0)\n",
      "Requirement already satisfied: pytz>=2017.3 in /opt/conda/lib/python3.7/site-packages (from pandas~=1.0->cobra) (2019.2)\n",
      "Requirement already satisfied: httpcore<0.14.0,>=0.13.0 in /opt/conda/lib/python3.7/site-packages (from httpx~=0.14->cobra) (0.13.3)\n",
      "Requirement already satisfied: rfc3986[idna2008]<2,>=1.3 in /opt/conda/lib/python3.7/site-packages (from httpx~=0.14->cobra) (1.5.0)\n",
      "Requirement already satisfied: certifi in /opt/conda/lib/python3.7/site-packages (from httpx~=0.14->cobra) (2019.6.16)\n",
      "Requirement already satisfied: sniffio in /opt/conda/lib/python3.7/site-packages (from httpx~=0.14->cobra) (1.2.0)\n",
      "Requirement already satisfied: typing-extensions<4.0.0,>=3.7.4 in /opt/conda/lib/python3.7/site-packages (from rich>=8.0->cobra) (3.10.0.0)\n",
      "Requirement already satisfied: pygments<3.0.0,>=2.6.0 in /opt/conda/lib/python3.7/site-packages (from rich>=8.0->cobra) (2.9.0)\n",
      "Requirement already satisfied: commonmark<0.10.0,>=0.9.0 in /opt/conda/lib/python3.7/site-packages (from rich>=8.0->cobra) (0.9.1)\n",
      "Requirement already satisfied: colorama<0.5.0,>=0.4.0 in /opt/conda/lib/python3.7/site-packages (from rich>=8.0->cobra) (0.4.4)\n",
      "Requirement already satisfied: six>=1.9 in /opt/conda/lib/python3.7/site-packages (from optlang~=1.5->cobra) (1.12.0)\n",
      "Requirement already satisfied: sympy>=1.0 in /opt/conda/lib/python3.7/site-packages (from optlang~=1.5->cobra) (1.4)\n",
      "Requirement already satisfied: zipp>=0.4; python_version < \"3.8\" in /opt/conda/lib/python3.7/site-packages (from importlib-resources->cobra) (3.4.1)\n",
      "Requirement already satisfied: ruamel.yaml.clib>=0.1.2; platform_python_implementation == \"CPython\" and python_version < \"3.10\" in /opt/conda/lib/python3.7/site-packages (from ruamel.yaml~=0.16->cobra) (0.2.2)\n",
      "Requirement already satisfied: importlib-metadata; python_version < \"3.8\" in /opt/conda/lib/python3.7/site-packages (from depinfo->cobra) (4.0.1)\n",
      "Requirement already satisfied: h11<0.13,>=0.11 in /opt/conda/lib/python3.7/site-packages (from httpcore<0.14.0,>=0.13.0->httpx~=0.14->cobra) (0.12.0)\n",
      "Requirement already satisfied: idna; extra == \"idna2008\" in /opt/conda/lib/python3.7/site-packages (from rfc3986[idna2008]<2,>=1.3->httpx~=0.14->cobra) (2.8)\n",
      "Requirement already satisfied: mpmath>=0.19 in /opt/conda/lib/python3.7/site-packages (from sympy>=1.0->optlang~=1.5->cobra) (1.1.0)\n"
     ]
    }
   ],
   "source": [
    "! pip install cobra"
   ]
  },
  {
   "cell_type": "code",
   "execution_count": 3,
   "metadata": {},
   "outputs": [
    {
     "name": "stdout",
     "output_type": "stream",
     "text": [
      "Collecting metDataModel\n",
      "\u001b[?25l  Downloading https://files.pythonhosted.org/packages/bd/cd/90f15e6795828693479078e39602c6b95c126a53fba72d43c9680d3fa346/metDataModel-0.3.1-py3-none-any.whl (2.1MB)\n",
      "\u001b[K     |████████████████████████████████| 2.2MB 5.2MB/s eta 0:00:01\n",
      "\u001b[?25hInstalling collected packages: metDataModel\n",
      "  Found existing installation: metDataModel 0.3.0\n",
      "    Uninstalling metDataModel-0.3.0:\n",
      "      Successfully uninstalled metDataModel-0.3.0\n",
      "Successfully installed metDataModel-0.3.1\n"
     ]
    }
   ],
   "source": [
    "# https://github.com/shuzhao-li/metDataModel/ - need v 0.3.1 for serialize functions\n",
    "!pip install --upgrade metDataModel"
   ]
  },
  {
   "cell_type": "code",
   "execution_count": 4,
   "metadata": {},
   "outputs": [],
   "source": [
    "from metDataModel.core import Compound, Reaction, Pathway, metabolicModel\n",
    "\n",
    "# https://cobrapy.readthedocs.io/en/latest/io.html#SBML\n",
    "import cobra"
   ]
  },
  {
   "cell_type": "code",
   "execution_count": 5,
   "metadata": {},
   "outputs": [
    {
     "data": {
      "text/html": [
       "\n",
       "        <table>\n",
       "            <tr>\n",
       "                <td><strong>Name</strong></td>\n",
       "                <td>COBRAModel</td>\n",
       "            </tr><tr>\n",
       "                <td><strong>Memory address</strong></td>\n",
       "                <td>0x07ff62e99bcf8</td>\n",
       "            </tr><tr>\n",
       "                <td><strong>Number of metabolites</strong></td>\n",
       "                <td>8399</td>\n",
       "            </tr><tr>\n",
       "                <td><strong>Number of reactions</strong></td>\n",
       "                <td>13543</td>\n",
       "            </tr><tr>\n",
       "                <td><strong>Number of groups</strong></td>\n",
       "                <td>111</td>\n",
       "            </tr><tr>\n",
       "                <td><strong>Objective expression</strong></td>\n",
       "                <td>1.0*biomass_reaction - 1.0*biomass_reaction_reverse_32a6c</td>\n",
       "            </tr><tr>\n",
       "                <td><strong>Compartments</strong></td>\n",
       "                <td>Cytoplasm, Lysosome, Mitochondrion, Endoplasmic_reticulum, Extracellular, Peroxisome, Nucleus, Golgi, unknownCompartment4</td>\n",
       "            </tr>\n",
       "          </table>"
      ],
      "text/plain": [
       "<Model COBRAModel at 0x7ff62e99bcf8>"
      ]
     },
     "execution_count": 5,
     "metadata": {},
     "output_type": "execute_result"
    }
   ],
   "source": [
    "# cloned from\n",
    "# https://github.com/VirtualMetabolicHuman\n",
    "# 2021-05-08\n",
    "# this is the more inclusive model. The other Recon3DModel_301 is flux constrainted.\n",
    "R3D = \"thiele/Recon/Current_Version/Recon3D_301_Reconstruction/Recon3D_301.xml\"\n",
    "\n",
    "model = cobra.io.read_sbml_model(R3D)\n",
    "\n",
    "model"
   ]
  },
  {
   "cell_type": "code",
   "execution_count": 6,
   "metadata": {},
   "outputs": [
    {
     "data": {
      "text/plain": [
       "['C28H44O3',\n",
       " 0,\n",
       " '1-Alpha,25-Dihydroxyvitamin D2',\n",
       " '1a25dhvitd2[m]',\n",
       " '1a25dhvitd2[m]',\n",
       " {'hmdb': 'HMDB06225',\n",
       "  'inchi': 'InChI=1S/C28H44O3/c1-18(9-10-19(2)27(4,5)31)24-13-14-25-21(8-7-15-28(24,25)6)11-12-22-16-23(29)17-26(30)20(22)3/h9-12,18-19,23-26,29-31H,3,7-8,13-17H2,1-2,4-6H3/b10-9+,21-11+,22-12-/t18-,19+,23-,24-,25+,26+,28-/m1/s1',\n",
       "  'pubchem.compound': '9547243'}]"
      ]
     },
     "execution_count": 6,
     "metadata": {},
     "output_type": "execute_result"
    }
   ],
   "source": [
    "[model.metabolites[33].formula,\n",
    "model.metabolites[33].charge,\n",
    " model.metabolites[33].name,\n",
    " model.metabolites[33].id,\n",
    " model.metabolites[33]._id,\n",
    " model.metabolites[33].annotation\n",
    "]"
   ]
  },
  {
   "cell_type": "code",
   "execution_count": 7,
   "metadata": {},
   "outputs": [
    {
     "data": {
      "text/html": [
       "\n",
       "        <table>\n",
       "            <tr>\n",
       "                <td><strong>Reaction identifier</strong></td><td>25VITD2Hm</td>\n",
       "            </tr><tr>\n",
       "                <td><strong>Name</strong></td><td>1-Alpha-Vitamin D-25-Hydroxylase (D2)</td>\n",
       "            </tr><tr>\n",
       "                <td><strong>Memory address</strong></td>\n",
       "                <td>0x07ff64602ea58</td>\n",
       "            </tr><tr>\n",
       "                <td><strong>Stoichiometry</strong></td>\n",
       "                <td>\n",
       "                    <p style='text-align:right'>25hvitd2[m] + h[m] + nadph[m] + o2[m] --> 1a25dhvitd2[m] + h2o[m] + nadp[m]</p>\n",
       "                    <p style='text-align:right'>25-Hydroxyvitamin D2 + Proton + Nicotinamide Adenine Dinucleotide Phosphate - Reduced + Oxygen --> 1-Alpha,25-Dihydroxyvitamin D2 + Water + Nicotinamide Adenine Dinucleotide Phosphate</p>\n",
       "                </td>\n",
       "            </tr><tr>\n",
       "                <td><strong>GPR</strong></td><td>1594.1</td>\n",
       "            </tr><tr>\n",
       "                <td><strong>Lower bound</strong></td><td>0.0</td>\n",
       "            </tr><tr>\n",
       "                <td><strong>Upper bound</strong></td><td>1000.0</td>\n",
       "            </tr>\n",
       "        </table>\n",
       "        "
      ],
      "text/plain": [
       "<Reaction 25VITD2Hm at 0x7ff64602ea58>"
      ]
     },
     "execution_count": 7,
     "metadata": {},
     "output_type": "execute_result"
    }
   ],
   "source": [
    "model.reactions[33]"
   ]
  },
  {
   "cell_type": "code",
   "execution_count": 8,
   "metadata": {},
   "outputs": [
    {
     "data": {
      "text/plain": [
       "'1a25dhvitd2'"
      ]
     },
     "execution_count": 8,
     "metadata": {},
     "output_type": "execute_result"
    }
   ],
   "source": [
    "def metabolite2compound(M):\n",
    "    # convert cobra Metabolite to metDataModel Compound\n",
    "    Cpd = Compound()\n",
    "    Cpd.src_id = M.id\n",
    "    Cpd.id = M.id.split(\"[\")[0]\n",
    "    Cpd.name = M.name\n",
    "    Cpd.charge = M.charge\n",
    "    Cpd.charged_formula = M.formula\n",
    "    Cpd.db_ids = M.annotation\n",
    "    return Cpd\n",
    "\n",
    "metabolite2compound(model.metabolites[33]).id"
   ]
  },
  {
   "cell_type": "code",
   "execution_count": 9,
   "metadata": {},
   "outputs": [
    {
     "name": "stdout",
     "output_type": "stream",
     "text": [
      "total,  8399 4140\n"
     ]
    }
   ],
   "source": [
    "# list of Compounds\n",
    "myCpds = []\n",
    "anno = {}\n",
    "for M in model.metabolites:\n",
    "    anno[M.id.split(\"[\")[0]] = M.annotation\n",
    "    myCpds.append(metabolite2compound(M))\n",
    "    \n",
    "print(\"total, \", len(myCpds), len(anno))"
   ]
  },
  {
   "cell_type": "code",
   "execution_count": 10,
   "metadata": {},
   "outputs": [
    {
     "name": "stdout",
     "output_type": "stream",
     "text": [
      "4140\n"
     ]
    }
   ],
   "source": [
    "# de-compartmentalize metabolites \n",
    "\n",
    "# this overwrites repeated ids\n",
    "myDict = {}\n",
    "for M in myCpds: myDict[M.id] = M\n",
    "print(len(myDict))\n",
    "\n",
    "list(myDict.items())[0]\n",
    "\n",
    "## Compounds to port\n",
    "R3D_Compounds = list(myDict.values())"
   ]
  },
  {
   "cell_type": "code",
   "execution_count": 11,
   "metadata": {},
   "outputs": [
    {
     "data": {
      "text/plain": [
       "['ACHEe', ['h2o', 'ach'], ['h', 'ac', 'chol']]"
      ]
     },
     "execution_count": 11,
     "metadata": {},
     "output_type": "execute_result"
    }
   ],
   "source": [
    "## This is model dependent, as some models use symbol other than \"[\" !!!\n",
    "def mclean(x): return x.split(\"[\")[0]\n",
    "\n",
    "# from metDataModel.core import Compound, Reaction, Pathway, metabolicModel\n",
    "# port reactions\n",
    "def port_reaction(R):\n",
    "    new = Reaction()\n",
    "    new.id = R.id\n",
    "    new.reactants = [mclean(m.id) for m in R.reactants] \n",
    "    new.products = [mclean(m.id) for m in R.products] \n",
    "    return new\n",
    "\n",
    "test99 = port_reaction(model.reactions[199])\n",
    "[test99.id,\n",
    " test99.reactants,\n",
    " test99.products,\n",
    "]"
   ]
  },
  {
   "cell_type": "code",
   "execution_count": 16,
   "metadata": {},
   "outputs": [
    {
     "name": "stdout",
     "output_type": "stream",
     "text": [
      "13543\n"
     ]
    }
   ],
   "source": [
    "# this is the compartmentalized version of reactions\n",
    "## Reactions to port\n",
    "R3D_Reactions = []\n",
    "for R in model.reactions:\n",
    "    R3D_Reactions.append( port_reaction(R) )\n",
    "    \n",
    "print(len(R3D_Reactions))\n"
   ]
  },
  {
   "cell_type": "code",
   "execution_count": 13,
   "metadata": {},
   "outputs": [
    {
     "data": {
      "text/plain": [
       "['group34',\n",
       " 'Glycine, serine, alanine, and threonine metabolism',\n",
       " ['2AMACHYD',\n",
       "  'AACTOOR',\n",
       "  'ALASm',\n",
       "  'AOBUTDsm',\n",
       "  'BETALDHxm',\n",
       "  'BHMT',\n",
       "  'CHOLD2m',\n",
       "  'DMGDHm',\n",
       "  'GCC2am',\n",
       "  'GCC2bim',\n",
       "  'GCC2cm',\n",
       "  'GCCam',\n",
       "  'GCCbim',\n",
       "  'GCCcm',\n",
       "  'GHMT2rm',\n",
       "  'GLYATm',\n",
       "  'GLYOp',\n",
       "  'GNMT',\n",
       "  'PGCD',\n",
       "  'SARCOXp',\n",
       "  'SERHL',\n",
       "  'SPTix',\n",
       "  'r0160',\n",
       "  'r0552',\n",
       "  'r0553',\n",
       "  'RE2111M',\n",
       "  'RE2117M',\n",
       "  'RE2427M',\n",
       "  'RE2428M',\n",
       "  'RE2429M',\n",
       "  'GLYACm',\n",
       "  'THRACm',\n",
       "  'ACHOMm',\n",
       "  'GHMT2r',\n",
       "  'PSERT',\n",
       "  'PSP_L',\n",
       "  'THRS',\n",
       "  'THRD_L',\n",
       "  'OBDHc',\n",
       "  'PPIOGLYc',\n",
       "  'TIGGLYc',\n",
       "  'HEXGLYc',\n",
       "  'SUBGLYc',\n",
       "  'HMR_4284',\n",
       "  'HMR_4466',\n",
       "  'HMR_4696',\n",
       "  'HMR_4700',\n",
       "  'HMR_7703',\n",
       "  'HMR_9718']]"
      ]
     },
     "execution_count": 13,
     "metadata": {},
     "output_type": "execute_result"
    }
   ],
   "source": [
    "# pathways, using group as pathway from RECON3D. Other models may use subsystem etc.\n",
    "\n",
    "def port_pathway(P):\n",
    "    new = Pathway()\n",
    "    new.id = P.id\n",
    "    new.source = ['RECON3D',]\n",
    "    new.name = P.name\n",
    "    new.list_of_reactions = [x.id for x in P.members]\n",
    "    return new\n",
    "\n",
    "p = port_pathway(model.groups[33])\n",
    "\n",
    "[p.id, p.name, p.list_of_reactions]"
   ]
  },
  {
   "cell_type": "code",
   "execution_count": 14,
   "metadata": {},
   "outputs": [
    {
     "data": {
      "text/plain": [
       "111"
      ]
     },
     "execution_count": 14,
     "metadata": {},
     "output_type": "execute_result"
    }
   ],
   "source": [
    "## Pathways to port\n",
    "R3D_Pathways = []\n",
    "for P in model.groups:\n",
    "    R3D_Pathways.append(port_pathway(P))\n",
    "\n",
    "len(R3D_Pathways)"
   ]
  },
  {
   "cell_type": "code",
   "execution_count": 19,
   "metadata": {},
   "outputs": [],
   "source": [
    "note = \"\"\"RECON3D cloned from https://github.com/VirtualMetabolicHuman, 2021-05-08.\n",
    "Compounds are decompartmentalized, but Reactions are not. \n",
    "The redundant metabolites will be merged ad hoc when pathways and reactions are pulled.\n",
    "\"\"\"\n",
    "\n",
    "## metabolicModel to export\n",
    "MM = metabolicModel()\n",
    "MM.id = 'az_RECON3D_20210510'\n",
    "MM.meta_data = {\n",
    "            'species': 'human',\n",
    "            'version': '',\n",
    "            'sources': ['https://github.com/VirtualMetabolicHuman, retrieved 2021-05-08'],\n",
    "            'status': '',\n",
    "            'last_update': '20210510',\n",
    "            'note': note,\n",
    "        }\n",
    "MM.list_of_pathways = [P.serialize() for P in R3D_Pathways]\n",
    "MM.list_of_reactions = [R.serialize() for R in  R3D_Reactions]\n",
    "MM.list_of_compounds = [C.serialize() for C in R3D_Compounds]"
   ]
  },
  {
   "cell_type": "code",
   "execution_count": 20,
   "metadata": {},
   "outputs": [
    {
     "data": {
      "text/plain": [
       "[[{'id': 'group1',\n",
       "   'name': 'Alanine and aspartate metabolism',\n",
       "   'list_of_reactions': ['AGTim',\n",
       "    'AGTix',\n",
       "    'ARGSS',\n",
       "    'ASNNm',\n",
       "    'ASNS1',\n",
       "    'ASPNATm',\n",
       "    'ASPTAm',\n",
       "    'DASPO1p',\n",
       "    'NACASPAH',\n",
       "    'RE1473C',\n",
       "    'RE2031M',\n",
       "    'RE2642C',\n",
       "    'ALAR',\n",
       "    'ASPTA',\n",
       "    'r0127',\n",
       "    'ARGSL']},\n",
       "  {'id': 'group2',\n",
       "   'name': 'Alkaloid synthesis',\n",
       "   'list_of_reactions': ['COKECBESr',\n",
       "    'ECGISOr',\n",
       "    'EGMESTr',\n",
       "    'NMPTRCOX',\n",
       "    'PECGONCOATr']}],\n",
       " [{'id': '10FTHF5GLUtl',\n",
       "   'reactants': ['10fthf5glu'],\n",
       "   'products': ['10fthf5glu']},\n",
       "  {'id': '10FTHF5GLUtm',\n",
       "   'reactants': ['10fthf5glu'],\n",
       "   'products': ['10fthf5glu']}],\n",
       " [{'id': 'nrpphr',\n",
       "   'name': 'Norepinephrine',\n",
       "   'identifiers': {'hmdb': 'HMDB00216',\n",
       "    'inchi': 'InChI=1S/C8H11NO3/c9-4-8(12)5-1-2-6(10)7(11)3-5/h1-3,8,10-12H,4,9H2/p+1/t8-/m0/s1',\n",
       "    'kegg.compound': 'C00547',\n",
       "    'pubchem.compound': '439260'},\n",
       "   'neutral_formula': '',\n",
       "   'charge': 1,\n",
       "   'charged_formula': 'C8H12NO3',\n",
       "   'neutral_mono_mass': 0.0,\n",
       "   'SMILES': '',\n",
       "   'inchi': ''},\n",
       "  {'id': '4abut',\n",
       "   'name': '4-Aminobutanoate',\n",
       "   'identifiers': {'hmdb': 'HMDB00112',\n",
       "    'inchi': 'InChI=1S/C4H9NO2/c5-3-1-2-4(6)7/h1-3,5H2,(H,6,7)',\n",
       "    'kegg.compound': 'C00334',\n",
       "    'pubchem.compound': '119'},\n",
       "   'neutral_formula': '',\n",
       "   'charge': 0,\n",
       "   'charged_formula': 'C4H9NO2',\n",
       "   'neutral_mono_mass': 0.0,\n",
       "   'SMILES': '',\n",
       "   'inchi': ''}]]"
      ]
     },
     "execution_count": 20,
     "metadata": {},
     "output_type": "execute_result"
    }
   ],
   "source": [
    "# check output\n",
    "[\n",
    "MM.list_of_pathways[:2],\n",
    "MM.list_of_reactions[:2],\n",
    "MM.list_of_compounds[100:102],\n",
    "]"
   ]
  },
  {
   "cell_type": "code",
   "execution_count": 21,
   "metadata": {},
   "outputs": [],
   "source": [
    "import pickle\n",
    "\n",
    "# pickled object can be imported later, and for Database upload\n",
    "with open('metabolicModel_RECON3D_20210510.pickle', 'wb') as f:\n",
    "    pickle.dump(MM.serialize(), f, pickle.HIGHEST_PROTOCOL)"
   ]
  },
  {
   "cell_type": "code",
   "execution_count": 22,
   "metadata": {},
   "outputs": [],
   "source": [
    "import json\n",
    "\n",
    "s = json.JSONEncoder().encode( MM.serialize() )\n",
    "with open(\"metabolicModel_RECON3D_20210510.json\", \"w\") as O:\n",
    "    O.write(s)"
   ]
  },
  {
   "cell_type": "markdown",
   "metadata": {},
   "source": [
    "## Summary\n",
    "\n",
    "This ports reactions, pathways and compounds. Gene and enzyme information is not included. They should be when someone has time to do it.\n",
    "\n",
    "The exported pickle can be re-imported and uploaded to Database easily.\n",
    "\n",
    "This notebook, the pickle file and the JSON file go to GitHub repo (https://github.com/shuzhao-li/Azimuth)."
   ]
  }
 ],
 "metadata": {
  "kernelspec": {
   "display_name": "Python 3",
   "language": "python",
   "name": "python3"
  },
  "language_info": {
   "codemirror_mode": {
    "name": "ipython",
    "version": 3
   },
   "file_extension": ".py",
   "mimetype": "text/x-python",
   "name": "python",
   "nbconvert_exporter": "python",
   "pygments_lexer": "ipython3",
   "version": "3.7.3"
  }
 },
 "nbformat": 4,
 "nbformat_minor": 2
}
