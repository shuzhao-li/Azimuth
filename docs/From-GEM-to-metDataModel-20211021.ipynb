{
 "cells": [
  {
   "cell_type": "markdown",
   "metadata": {},
   "source": [
    "# Porting genome scale metabolic models for metabolomics\n",
    "\n",
    "**Human-GEM as default human model, for better compatibility**\n",
    "\n",
    "https://github.com/SysBioChalmers/Human-GEM\n",
    "\n",
    "As mummichog 3 is under development, treat this as part of development.\n",
    "\n",
    "**Use cobra to parse SBML models whereas applicable**\n",
    "\n",
    "Not all models comply with the formats in cobra. Models from USCD and Thiele labs should comply.\n",
    "\n",
    "**Base our code on metDataModel**\n",
    "\n",
    "Each model needs a list of Reactions, list of Pathways, and a list of Compounds.\n",
    "It's important to include with Compounds with all linked identifiers to other DBs (HMDB, PubChem, etc), and with formulae (usually charged form in these models) when available.\n",
    "We can alwasy update the data later. E.g. the neural formulae can be retrieved from HMDB if linked.\n",
    "Save in Python pickle and in JSON.\n",
    "\n",
    "**Compartmentalized for now**\n",
    "\n",
    "Remove compartments as a separate model.\n",
    "\n",
    "Shuzhao Li, 2021-10-21"
   ]
  },
  {
   "cell_type": "code",
   "execution_count": 1,
   "metadata": {},
   "outputs": [
    {
     "name": "stdout",
     "output_type": "stream",
     "text": [
      "Requirement already satisfied: cobra in /opt/conda/lib/python3.9/site-packages (0.22.1)\n",
      "Requirement already satisfied: appdirs~=1.4 in /opt/conda/lib/python3.9/site-packages (from cobra) (1.4.4)\n",
      "Requirement already satisfied: importlib-resources in /opt/conda/lib/python3.9/site-packages (from cobra) (5.3.0)\n",
      "Requirement already satisfied: rich>=8.0 in /opt/conda/lib/python3.9/site-packages (from cobra) (10.12.0)\n",
      "Requirement already satisfied: diskcache~=5.0 in /opt/conda/lib/python3.9/site-packages (from cobra) (5.2.1)\n",
      "Requirement already satisfied: ruamel.yaml~=0.16 in /opt/conda/lib/python3.9/site-packages (from cobra) (0.17.16)\n",
      "Requirement already satisfied: httpx~=0.14 in /opt/conda/lib/python3.9/site-packages (from cobra) (0.20.0)\n",
      "Requirement already satisfied: python-libsbml==5.19.0 in /opt/conda/lib/python3.9/site-packages (from cobra) (5.19.0)\n",
      "Requirement already satisfied: pydantic~=1.6 in /opt/conda/lib/python3.9/site-packages (from cobra) (1.8.2)\n",
      "Requirement already satisfied: swiglpk in /opt/conda/lib/python3.9/site-packages (from cobra) (5.0.3)\n",
      "Requirement already satisfied: depinfo in /opt/conda/lib/python3.9/site-packages (from cobra) (1.7.0)\n",
      "Requirement already satisfied: numpy~=1.13 in /opt/conda/lib/python3.9/site-packages (from cobra) (1.21.3)\n",
      "Requirement already satisfied: pandas~=1.0 in /opt/conda/lib/python3.9/site-packages (from cobra) (1.3.4)\n",
      "Requirement already satisfied: future in /opt/conda/lib/python3.9/site-packages (from cobra) (0.18.2)\n",
      "Requirement already satisfied: optlang~=1.5 in /opt/conda/lib/python3.9/site-packages (from cobra) (1.5.2)\n",
      "Requirement already satisfied: httpcore<0.14.0,>=0.13.3 in /opt/conda/lib/python3.9/site-packages (from httpx~=0.14->cobra) (0.13.7)\n",
      "Requirement already satisfied: sniffio in /opt/conda/lib/python3.9/site-packages (from httpx~=0.14->cobra) (1.2.0)\n",
      "Requirement already satisfied: charset-normalizer in /opt/conda/lib/python3.9/site-packages (from httpx~=0.14->cobra) (2.0.0)\n",
      "Requirement already satisfied: certifi in /opt/conda/lib/python3.9/site-packages (from httpx~=0.14->cobra) (2021.10.8)\n",
      "Requirement already satisfied: rfc3986[idna2008]<2,>=1.3 in /opt/conda/lib/python3.9/site-packages (from httpx~=0.14->cobra) (1.5.0)\n",
      "Requirement already satisfied: six>=1.9 in /opt/conda/lib/python3.9/site-packages (from optlang~=1.5->cobra) (1.16.0)\n",
      "Requirement already satisfied: sympy>=1.0 in /opt/conda/lib/python3.9/site-packages (from optlang~=1.5->cobra) (1.9)\n",
      "Requirement already satisfied: python-dateutil>=2.7.3 in /opt/conda/lib/python3.9/site-packages (from pandas~=1.0->cobra) (2.8.2)\n",
      "Requirement already satisfied: pytz>=2017.3 in /opt/conda/lib/python3.9/site-packages (from pandas~=1.0->cobra) (2021.3)\n",
      "Requirement already satisfied: typing-extensions>=3.7.4.3 in /opt/conda/lib/python3.9/site-packages (from pydantic~=1.6->cobra) (3.10.0.2)\n",
      "Requirement already satisfied: colorama<0.5.0,>=0.4.0 in /opt/conda/lib/python3.9/site-packages (from rich>=8.0->cobra) (0.4.4)\n",
      "Requirement already satisfied: pygments<3.0.0,>=2.6.0 in /opt/conda/lib/python3.9/site-packages (from rich>=8.0->cobra) (2.10.0)\n",
      "Requirement already satisfied: commonmark<0.10.0,>=0.9.0 in /opt/conda/lib/python3.9/site-packages (from rich>=8.0->cobra) (0.9.1)\n",
      "Requirement already satisfied: ruamel.yaml.clib>=0.1.2 in /opt/conda/lib/python3.9/site-packages (from ruamel.yaml~=0.16->cobra) (0.2.2)\n",
      "Requirement already satisfied: zipp>=3.1.0 in /opt/conda/lib/python3.9/site-packages (from importlib-resources->cobra) (3.6.0)\n",
      "Requirement already satisfied: anyio==3.* in /opt/conda/lib/python3.9/site-packages (from httpcore<0.14.0,>=0.13.3->httpx~=0.14->cobra) (3.3.4)\n",
      "Requirement already satisfied: h11<0.13,>=0.11 in /opt/conda/lib/python3.9/site-packages (from httpcore<0.14.0,>=0.13.3->httpx~=0.14->cobra) (0.12.0)\n",
      "Requirement already satisfied: idna>=2.8 in /opt/conda/lib/python3.9/site-packages (from anyio==3.*->httpcore<0.14.0,>=0.13.3->httpx~=0.14->cobra) (3.1)\n",
      "Requirement already satisfied: mpmath>=0.19 in /opt/conda/lib/python3.9/site-packages (from sympy>=1.0->optlang~=1.5->cobra) (1.2.1)\n"
     ]
    }
   ],
   "source": [
    "! pip install cobra"
   ]
  },
  {
   "cell_type": "code",
   "execution_count": 2,
   "metadata": {},
   "outputs": [
    {
     "name": "stdout",
     "output_type": "stream",
     "text": [
      "Requirement already satisfied: metDataModel in /opt/conda/lib/python3.9/site-packages (0.4.8)\r\n"
     ]
    }
   ],
   "source": [
    "# https://github.com/shuzhao-li/metDataModel/ \n",
    "!pip install --upgrade metDataModel"
   ]
  },
  {
   "cell_type": "code",
   "execution_count": 3,
   "metadata": {},
   "outputs": [],
   "source": [
    "from metDataModel.core import Compound, Reaction, Pathway, MetabolicModel"
   ]
  },
  {
   "cell_type": "code",
   "execution_count": 4,
   "metadata": {},
   "outputs": [
    {
     "name": "stdout",
     "output_type": "stream",
     "text": [
      "Requirement already satisfied: numpy in /opt/conda/lib/python3.9/site-packages (1.21.3)\n",
      "Requirement already satisfied: pandas in /opt/conda/lib/python3.9/site-packages (1.3.4)\n",
      "Requirement already satisfied: pytz>=2017.3 in /opt/conda/lib/python3.9/site-packages (from pandas) (2021.3)\n",
      "Requirement already satisfied: python-dateutil>=2.7.3 in /opt/conda/lib/python3.9/site-packages (from pandas) (2.8.2)\n",
      "Requirement already satisfied: six>=1.5 in /opt/conda/lib/python3.9/site-packages (from python-dateutil>=2.7.3->pandas) (1.16.0)\n"
     ]
    }
   ],
   "source": [
    "!pip install --upgrade numpy pandas"
   ]
  },
  {
   "cell_type": "code",
   "execution_count": 5,
   "metadata": {},
   "outputs": [],
   "source": [
    "# https://cobrapy.readthedocs.io/en/latest/io.html#SBML\n",
    "import cobra"
   ]
  },
  {
   "cell_type": "code",
   "execution_count": 6,
   "metadata": {},
   "outputs": [
    {
     "name": "stdout",
     "output_type": "stream",
     "text": [
      "Scaling...\n",
      " A: min|aij| =  1.000e+00  max|aij| =  1.000e+00  ratio =  1.000e+00\n",
      "Problem data seem to be well scaled\n"
     ]
    }
   ],
   "source": [
    "xmlFile = 'Human-GEM/model/Human-GEM.xml'\n",
    "model = cobra.io.read_sbml_model(xmlFile)"
   ]
  },
  {
   "cell_type": "code",
   "execution_count": 7,
   "metadata": {},
   "outputs": [
    {
     "data": {
      "text/html": [
       "\n",
       "        <table>\n",
       "            <tr>\n",
       "                <td><strong>Name</strong></td>\n",
       "                <td>HumanGEM</td>\n",
       "            </tr><tr>\n",
       "                <td><strong>Memory address</strong></td>\n",
       "                <td>0x07f9e230bc490</td>\n",
       "            </tr><tr>\n",
       "                <td><strong>Number of metabolites</strong></td>\n",
       "                <td>8370</td>\n",
       "            </tr><tr>\n",
       "                <td><strong>Number of reactions</strong></td>\n",
       "                <td>13078</td>\n",
       "            </tr><tr>\n",
       "                <td><strong>Number of groups</strong></td>\n",
       "                <td>142</td>\n",
       "            </tr><tr>\n",
       "                <td><strong>Objective expression</strong></td>\n",
       "                <td>1.0*MAR13082 - 1.0*MAR13082_reverse_11d67</td>\n",
       "            </tr><tr>\n",
       "                <td><strong>Compartments</strong></td>\n",
       "                <td>Cytosol, Extracellular, Lysosome, Endoplasmic reticulum, Mitochondria, Peroxisome, Golgi apparatus, Nucleus, Inner mitochondria</td>\n",
       "            </tr>\n",
       "          </table>"
      ],
      "text/plain": [
       "<Model HumanGEM at 0x7f9e230bc490>"
      ]
     },
     "execution_count": 7,
     "metadata": {},
     "output_type": "execute_result"
    }
   ],
   "source": [
    "model"
   ]
  },
  {
   "cell_type": "code",
   "execution_count": 8,
   "metadata": {},
   "outputs": [
    {
     "data": {
      "text/html": [
       "\n",
       "        <table>\n",
       "            <tr>\n",
       "                <td><strong>Metabolite identifier</strong></td><td>MAM00599m</td>\n",
       "            </tr><tr>\n",
       "                <td><strong>Name</strong></td><td>20-OH-LTB4</td>\n",
       "            </tr><tr>\n",
       "                <td><strong>Memory address</strong></td>\n",
       "                <td>0x07f9e22f3a940</td>\n",
       "            </tr><tr>\n",
       "                <td><strong>Formula</strong></td><td>C20H31O5</td>\n",
       "            </tr><tr>\n",
       "                <td><strong>Compartment</strong></td><td>m</td>\n",
       "            </tr><tr>\n",
       "                <td><strong>In 2 reaction(s)</strong></td><td>\n",
       "                    MAR01127, MAR01130</td>\n",
       "            </tr>\n",
       "        </table>"
      ],
      "text/plain": [
       "<Metabolite MAM00599m at 0x7f9e22f3a940>"
      ]
     },
     "execution_count": 8,
     "metadata": {},
     "output_type": "execute_result"
    }
   ],
   "source": [
    "model.metabolites[990]"
   ]
  },
  {
   "cell_type": "code",
   "execution_count": 9,
   "metadata": {},
   "outputs": [
    {
     "data": {
      "text/html": [
       "\n",
       "        <table>\n",
       "            <tr>\n",
       "                <td><strong>Reaction identifier</strong></td><td>MAR07747</td>\n",
       "            </tr><tr>\n",
       "                <td><strong>Name</strong></td><td></td>\n",
       "            </tr><tr>\n",
       "                <td><strong>Memory address</strong></td>\n",
       "                <td>0x07f9e217806d0</td>\n",
       "            </tr><tr>\n",
       "                <td><strong>Stoichiometry</strong></td>\n",
       "                <td>\n",
       "                    <p style='text-align:right'>MAM01285c + MAM01965c --> MAM01334c + MAM01968c + MAM02039c</p>\n",
       "                    <p style='text-align:right'>ADP + glucose --> AMP + glucose-6-phosphate + H+</p>\n",
       "                </td>\n",
       "            </tr><tr>\n",
       "                <td><strong>GPR</strong></td><td>ENSG00000159322</td>\n",
       "            </tr><tr>\n",
       "                <td><strong>Lower bound</strong></td><td>0.0</td>\n",
       "            </tr><tr>\n",
       "                <td><strong>Upper bound</strong></td><td>1000.0</td>\n",
       "            </tr>\n",
       "        </table>\n",
       "        "
      ],
      "text/plain": [
       "<Reaction MAR07747 at 0x7f9e217806d0>"
      ]
     },
     "execution_count": 9,
     "metadata": {},
     "output_type": "execute_result"
    }
   ],
   "source": [
    "model.reactions[33]"
   ]
  },
  {
   "cell_type": "code",
   "execution_count": 10,
   "metadata": {},
   "outputs": [
    {
     "data": {
      "text/plain": [
       "frozenset({<Gene ENSG00000159322 at 0x7f9e21b60850>})"
      ]
     },
     "execution_count": 10,
     "metadata": {},
     "output_type": "execute_result"
    }
   ],
   "source": [
    "model.reactions[33].genes"
   ]
  },
  {
   "cell_type": "code",
   "execution_count": 11,
   "metadata": {},
   "outputs": [
    {
     "data": {
      "text/plain": [
       "['Beta oxidation of branched-chain fatty acids (mitochondrial)',\n",
       " 'group12',\n",
       " [<Reaction MAR03522 at 0x7f9e2010e610>,\n",
       "  <Reaction MAR03523 at 0x7f9e2010ee50>,\n",
       "  <Reaction MAR03524 at 0x7f9e2010e9a0>,\n",
       "  <Reaction MAR03525 at 0x7f9e2010ef10>,\n",
       "  <Reaction MAR03526 at 0x7f9e2010e790>,\n",
       "  <Reaction MAR03527 at 0x7f9e2010eee0>,\n",
       "  <Reaction MAR03528 at 0x7f9e2010efa0>,\n",
       "  <Reaction MAR03529 at 0x7f9e2010ef40>,\n",
       "  <Reaction MAR03530 at 0x7f9e20122730>,\n",
       "  <Reaction MAR03531 at 0x7f9e20122dc0>,\n",
       "  <Reaction MAR03532 at 0x7f9e20122f40>,\n",
       "  <Reaction MAR03533 at 0x7f9e20122f10>,\n",
       "  <Reaction MAR03534 at 0x7f9e20122940>]]"
      ]
     },
     "execution_count": 11,
     "metadata": {},
     "output_type": "execute_result"
    }
   ],
   "source": [
    "[model.groups[11].name, model.groups[11].id, model.groups[11].members]"
   ]
  },
  {
   "cell_type": "code",
   "execution_count": 12,
   "metadata": {},
   "outputs": [
    {
     "data": {
      "text/plain": [
       "['C41H64N7O17P3S',\n",
       " -4,\n",
       " '(11Z,14Z,17Z)-eicosatrienoyl-CoA',\n",
       " 'MAM00012c',\n",
       " 'MAM00012c',\n",
       " {'sbo': 'SBO:0000247',\n",
       "  'kegg.compound': 'C16179',\n",
       "  'lipidmaps': 'LMFA07050044',\n",
       "  'vmhmetabolite': 'M00012',\n",
       "  'metanetx.chemical': ['MNXM162872', 'MNXM6497']}]"
      ]
     },
     "execution_count": 12,
     "metadata": {},
     "output_type": "execute_result"
    }
   ],
   "source": [
    "[model.metabolites[33].formula,\n",
    "model.metabolites[33].charge,\n",
    " model.metabolites[33].name,\n",
    " model.metabolites[33].id,\n",
    " model.metabolites[33]._id,\n",
    " model.metabolites[33].annotation\n",
    "]"
   ]
  },
  {
   "cell_type": "code",
   "execution_count": 13,
   "metadata": {},
   "outputs": [
    {
     "data": {
      "text/plain": [
       "{'sbo': 'SBO:0000247',\n",
       " 'bigg.metabolite': 'leuktrB4woh',\n",
       " 'kegg.compound': 'C04853',\n",
       " 'hmdb': 'HMDB01509',\n",
       " 'chebi': 'CHEBI:15646',\n",
       " 'pubchem.compound': '5280745',\n",
       " 'lipidmaps': 'LMFA03020018',\n",
       " 'vmhmetabolite': 'leuktrB4woh',\n",
       " 'metanetx.chemical': ['MNXM1169', 'MNXM92716']}"
      ]
     },
     "execution_count": 13,
     "metadata": {},
     "output_type": "execute_result"
    }
   ],
   "source": [
    "def metabolite2compound(M):\n",
    "    # convert cobra Metabolite to metDataModel Compound\n",
    "    Cpd = Compound()\n",
    "    Cpd.src_id = M.id\n",
    "    Cpd.id = M.id               #.split(\"[\")[0]\n",
    "    Cpd.name = M.name\n",
    "    Cpd.charge = M.charge\n",
    "    Cpd.charged_formula = M.formula\n",
    "    Cpd.db_ids = M.annotation\n",
    "    return Cpd\n",
    "\n",
    "metabolite2compound(model.metabolites[990]).db_ids"
   ]
  },
  {
   "cell_type": "code",
   "execution_count": 14,
   "metadata": {},
   "outputs": [],
   "source": [
    "myCpds = []\n",
    "for M in model.metabolites:\n",
    "    myCpds.append(metabolite2compound(M))"
   ]
  },
  {
   "cell_type": "code",
   "execution_count": 15,
   "metadata": {},
   "outputs": [
    {
     "data": {
      "text/plain": [
       "{'sbo': 'SBO:0000176',\n",
       " 'ec-code': ['1.2.4.1', '2.3.1.12', '1.8.1.4', '1.2.1.51'],\n",
       " 'kegg.reaction': 'R00209',\n",
       " 'bigg.reaction': 'PDHm',\n",
       " 'vmhreaction': 'PDHm',\n",
       " 'metanetx.reaction': 'MNXR102425',\n",
       " 'rhea': ['28043', '28042']}"
      ]
     },
     "execution_count": 15,
     "metadata": {},
     "output_type": "execute_result"
    }
   ],
   "source": [
    "model.reactions[6].annotation"
   ]
  },
  {
   "cell_type": "code",
   "execution_count": 16,
   "metadata": {},
   "outputs": [
    {
     "data": {
      "text/plain": [
       "['MAR04501',\n",
       " ['MAM01761c', 'MAM02845c'],\n",
       " ['MAM01939c', 'MAM02884c'],\n",
       " ['ENSG00000007350', 'ENSG00000163931', 'ENSG00000151005'],\n",
       " ['2.2.1.1']]"
      ]
     },
     "execution_count": 16,
     "metadata": {},
     "output_type": "execute_result"
    }
   ],
   "source": [
    "## This is model dependent, as some models use symbol other than \"[\" !!!\n",
    "## def mclean(x): return x.split(\"[\")[0]\n",
    "\n",
    "# port reactions, to include genes and enzymes\n",
    "def port_reaction(R):\n",
    "    new = Reaction()\n",
    "    new.id = R.id\n",
    "    new.reactants = [m.id for m in R.reactants] \n",
    "    new.products = [m.id for m in R.products] \n",
    "    new.genes = [g.id for g in R.genes]\n",
    "    ecs = R.annotation.get('ec-code', [])\n",
    "    if isinstance(ecs, list):\n",
    "        new.enzymes = ecs\n",
    "    else:\n",
    "        new.enzymes = [ecs]       # this version of human-GEM may have it as string\n",
    "    return new\n",
    "\n",
    "test99 = port_reaction(model.reactions[199])\n",
    "[test99.id,\n",
    " test99.reactants,\n",
    " test99.products,\n",
    " test99.genes,\n",
    " test99.enzymes\n",
    "]"
   ]
  },
  {
   "cell_type": "code",
   "execution_count": 17,
   "metadata": {},
   "outputs": [
    {
     "name": "stdout",
     "output_type": "stream",
     "text": [
      "13078\n"
     ]
    }
   ],
   "source": [
    "# this is the compartmentalized version of reactions\n",
    "## Reactions to port\n",
    "myRxns = []\n",
    "for R in model.reactions:\n",
    "    myRxns.append( port_reaction(R) )\n",
    "    \n",
    "print(len(myRxns))"
   ]
  },
  {
   "cell_type": "code",
   "execution_count": 18,
   "metadata": {},
   "outputs": [
    {
     "data": {
      "text/plain": [
       "['group34',\n",
       " 'Carnitine shuttle (endoplasmic reticular)',\n",
       " ['MAR02778', 'MAR02780', 'MAR02783', 'MAR02785', 'MAR02787']]"
      ]
     },
     "execution_count": 18,
     "metadata": {},
     "output_type": "execute_result"
    }
   ],
   "source": [
    "# pathways, using group as pathway. Other models may use subsystem etc.\n",
    "\n",
    "def port_pathway(P):\n",
    "    new = Pathway()\n",
    "    new.id = P.id\n",
    "    new.source = ['Human-GEM v1.10.0',]\n",
    "    new.name = P.name\n",
    "    new.list_of_reactions = [x.id for x in P.members]\n",
    "    return new\n",
    "\n",
    "p = port_pathway(model.groups[33])\n",
    "\n",
    "[p.id, p.name, p.list_of_reactions[:5]]"
   ]
  },
  {
   "cell_type": "code",
   "execution_count": 19,
   "metadata": {},
   "outputs": [
    {
     "data": {
      "text/plain": [
       "142"
      ]
     },
     "execution_count": 19,
     "metadata": {},
     "output_type": "execute_result"
    }
   ],
   "source": [
    "## Pathways to port\n",
    "myPathways = []\n",
    "for P in model.groups:\n",
    "    myPathways.append(port_pathway(P))\n",
    "\n",
    "len(myPathways)"
   ]
  },
  {
   "cell_type": "markdown",
   "metadata": {},
   "source": [
    "## Collected data; now output"
   ]
  },
  {
   "cell_type": "code",
   "execution_count": 20,
   "metadata": {},
   "outputs": [],
   "source": [
    "note = \"\"\"Human-GEM compartmentalized, with genes and ECs.\"\"\"\n",
    "\n",
    "## metabolicModel to export\n",
    "MM = MetabolicModel()\n",
    "MM.id = 'az_HumanGEM_20211021'\n",
    "MM.meta_data = {\n",
    "            'species': 'human',\n",
    "            'version': '',\n",
    "            'sources': ['https://github.com/SysBioChalmers/Human-GEM, retrieved 2021-10-07'],\n",
    "            'status': '',\n",
    "            'last_update': '20211021',\n",
    "            'note': note,\n",
    "        }\n",
    "MM.list_of_pathways = [P.serialize() for P in myPathways]\n",
    "MM.list_of_reactions = [R.serialize() for R in  myRxns]\n",
    "MM.list_of_compounds = [C.serialize() for C in myCpds]"
   ]
  },
  {
   "cell_type": "code",
   "execution_count": 21,
   "metadata": {},
   "outputs": [
    {
     "data": {
      "text/plain": [
       "[{'id': 'group3',\n",
       "  'name': 'Alanine, aspartate and glutamate metabolism',\n",
       "  'list_of_reactions': ['MAR03802',\n",
       "   'MAR03804',\n",
       "   'MAR03811',\n",
       "   'MAR03813',\n",
       "   'MAR03822',\n",
       "   'MAR03827',\n",
       "   'MAR03829',\n",
       "   'MAR03831',\n",
       "   'MAR03862',\n",
       "   'MAR03865',\n",
       "   'MAR03870',\n",
       "   'MAR03873',\n",
       "   'MAR08654',\n",
       "   'MAR03890',\n",
       "   'MAR03892',\n",
       "   'MAR09802',\n",
       "   'MAR03899',\n",
       "   'MAR03903',\n",
       "   'MAR04109',\n",
       "   'MAR04114',\n",
       "   'MAR04115',\n",
       "   'MAR04118',\n",
       "   'MAR04172',\n",
       "   'MAR04196',\n",
       "   'MAR04197',\n",
       "   'MAR04287',\n",
       "   'MAR04690',\n",
       "   'MAR04693',\n",
       "   'MAR06780',\n",
       "   'MAR06968',\n",
       "   'MAR06969',\n",
       "   'MAR06970',\n",
       "   'MAR06971',\n",
       "   'MAR06972',\n",
       "   'MAR07641',\n",
       "   'MAR07642',\n",
       "   'MAR08626',\n",
       "   'MAR08628',\n",
       "   'MAR04285',\n",
       "   'MAR11565']},\n",
       " [{'id': 'MAR03905',\n",
       "   'reactants': ['MAM01796c', 'MAM02552c'],\n",
       "   'products': ['MAM01249c', 'MAM02039c', 'MAM02553c'],\n",
       "   'genes': ['ENSG00000248144',\n",
       "    'ENSG00000197894',\n",
       "    'ENSG00000172955',\n",
       "    'ENSG00000198099',\n",
       "    'ENSG00000187758',\n",
       "    'ENSG00000196616',\n",
       "    'ENSG00000147576',\n",
       "    'ENSG00000180011',\n",
       "    'ENSG00000196344'],\n",
       "   'enzymes': ['1.1.1.1', '1.1.1.71']},\n",
       "  {'id': 'MAR03907',\n",
       "   'reactants': ['MAM01796c', 'MAM02554c'],\n",
       "   'products': ['MAM01249c', 'MAM02039c', 'MAM02555c'],\n",
       "   'genes': ['ENSG00000117448'],\n",
       "   'enzymes': ['1.1.1.2']}],\n",
       " [{'id': 'MAM00043m',\n",
       "   'name': '(2E)-eicosenoyl-CoA',\n",
       "   'identifiers': {'sbo': 'SBO:0000247',\n",
       "    'vmhmetabolite': 'CE2243',\n",
       "    'metanetx.chemical': ['MNXM163905', 'MNXM22115']},\n",
       "   'neutral_formula': '',\n",
       "   'charge': -4,\n",
       "   'charged_formula': 'C41H68N7O17P3S',\n",
       "   'neutral_mono_mass': 0.0,\n",
       "   'SMILES': '',\n",
       "   'inchi': ''},\n",
       "  {'id': 'MAM00043p',\n",
       "   'name': '(2E)-eicosenoyl-CoA',\n",
       "   'identifiers': {'sbo': 'SBO:0000247',\n",
       "    'vmhmetabolite': 'CE2243',\n",
       "    'metanetx.chemical': ['MNXM163905', 'MNXM22115']},\n",
       "   'neutral_formula': '',\n",
       "   'charge': -4,\n",
       "   'charged_formula': 'C41H68N7O17P3S',\n",
       "   'neutral_mono_mass': 0.0,\n",
       "   'SMILES': '',\n",
       "   'inchi': ''}]]"
      ]
     },
     "execution_count": 21,
     "metadata": {},
     "output_type": "execute_result"
    }
   ],
   "source": [
    "# check output\n",
    "[\n",
    "MM.list_of_pathways[2],\n",
    "MM.list_of_reactions[:2],\n",
    "MM.list_of_compounds[100:102],\n",
    "]"
   ]
  },
  {
   "cell_type": "code",
   "execution_count": 22,
   "metadata": {},
   "outputs": [],
   "source": [
    "import pickle\n",
    "\n",
    "# pickled object can be imported later, and for Database upload\n",
    "with open('MetabolicModel_az_HumanGEM_20211021.pickle', 'wb') as f:\n",
    "    pickle.dump(MM.serialize(), f, pickle.HIGHEST_PROTOCOL)"
   ]
  },
  {
   "cell_type": "code",
   "execution_count": 23,
   "metadata": {},
   "outputs": [],
   "source": [
    "import json\n",
    "\n",
    "s = json.JSONEncoder().encode( MM.serialize() )\n",
    "with open(\"metabolicModel_az_HumanGEM_20211021.json\", \"w\") as O:\n",
    "    O.write(s)"
   ]
  },
  {
   "cell_type": "markdown",
   "metadata": {},
   "source": [
    "## Summary\n",
    "\n",
    "This ports reactions, pathways and compounds. Gene and enzyme information is now included. \n",
    "\n",
    "The exported pickle can be re-imported and uploaded to Database easily.\n",
    "\n",
    "This notebook, the pickle file and the JSON file go to GitHub repo (https://github.com/shuzhao-li/Azimuth)."
   ]
  }
 ],
 "metadata": {
  "kernelspec": {
   "display_name": "Python 3 (ipykernel)",
   "language": "python",
   "name": "python3"
  },
  "language_info": {
   "codemirror_mode": {
    "name": "ipython",
    "version": 3
   },
   "file_extension": ".py",
   "mimetype": "text/x-python",
   "name": "python",
   "nbconvert_exporter": "python",
   "pygments_lexer": "ipython3",
   "version": "3.9.7"
  }
 },
 "nbformat": 4,
 "nbformat_minor": 2
}
