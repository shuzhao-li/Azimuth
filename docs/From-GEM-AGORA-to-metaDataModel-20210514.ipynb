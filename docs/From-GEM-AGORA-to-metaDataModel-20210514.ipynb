{
 "cells": [
  {
   "cell_type": "markdown",
   "metadata": {},
   "source": [
    "## Porting genome scale metabolic models for metabolomics (AGORA)\n",
    "\n",
    "- to make formats compatible to mummichog\n",
    "- to link to a common compound table\n",
    "- from compound table, we generated predicted mass peaks based on formula\n",
    "\n",
    "As mummichog 3 is under development, treat this as part of development.\n",
    "\n",
    "*Use cobra to parse SBML models whereas applicable*\n",
    "\n",
    "Not all models comply with the formats in cobra. Models from USCD and Thiele labs should comply.\n",
    "\n",
    "*Base our code on metDataModel*\n",
    "\n",
    "Each model needs a list of Reactions, a list of Pathways, and a list of Compounds. It's important to include Compounds with all linked identifiers to other DBs (HMDB, PubChem, etc), and with formulae (usually charged form in these models) when available. We can always update the data later. E.g. the neural formulae can be retrieved from HMDB if linked. Save in Python pickle and in JSON.\n",
    "\n",
    "Georgi Kolishovski, 2021-05-12"
   ]
  },
  {
   "cell_type": "code",
   "execution_count": 1,
   "metadata": {},
   "outputs": [
    {
     "name": "stdout",
     "output_type": "stream",
     "text": [
      "Requirement already satisfied: cobra in c:\\users\\kolisg\\anaconda3\\lib\\site-packages (0.22.0)\n",
      "Requirement already satisfied: optlang~=1.5 in c:\\users\\kolisg\\anaconda3\\lib\\site-packages (from cobra) (1.5.2)\n",
      "Requirement already satisfied: diskcache~=5.0 in c:\\users\\kolisg\\anaconda3\\lib\\site-packages (from cobra) (5.2.1)\n",
      "Requirement already satisfied: depinfo in c:\\users\\kolisg\\anaconda3\\lib\\site-packages (from cobra) (1.7.0)\n",
      "Requirement already satisfied: rich>=8.0 in c:\\users\\kolisg\\anaconda3\\lib\\site-packages (from cobra) (10.1.0)\n",
      "Requirement already satisfied: future in c:\\users\\kolisg\\anaconda3\\lib\\site-packages (from cobra) (0.18.2)\n",
      "Requirement already satisfied: numpy~=1.13 in c:\\users\\kolisg\\anaconda3\\lib\\site-packages (from cobra) (1.18.5)\n",
      "Requirement already satisfied: pandas~=1.0 in c:\\users\\kolisg\\anaconda3\\lib\\site-packages (from cobra) (1.0.5)\n",
      "Requirement already satisfied: python-libsbml==5.19.0 in c:\\users\\kolisg\\anaconda3\\lib\\site-packages (from cobra) (5.19.0)\n",
      "Requirement already satisfied: swiglpk in c:\\users\\kolisg\\anaconda3\\lib\\site-packages (from cobra) (5.0.3)\n",
      "Requirement already satisfied: ruamel.yaml~=0.16 in c:\\users\\kolisg\\anaconda3\\lib\\site-packages (from cobra) (0.17.4)\n",
      "Requirement already satisfied: importlib-resources in c:\\users\\kolisg\\anaconda3\\lib\\site-packages (from cobra) (5.1.2)\n",
      "Requirement already satisfied: httpx~=0.14 in c:\\users\\kolisg\\anaconda3\\lib\\site-packages (from cobra) (0.18.1)\n",
      "Requirement already satisfied: pydantic~=1.6 in c:\\users\\kolisg\\anaconda3\\lib\\site-packages (from cobra) (1.8.2)\n",
      "Requirement already satisfied: appdirs~=1.4 in c:\\users\\kolisg\\anaconda3\\lib\\site-packages (from cobra) (1.4.4)\n",
      "Requirement already satisfied: sympy>=1.0 in c:\\users\\kolisg\\anaconda3\\lib\\site-packages (from optlang~=1.5->cobra) (1.6.1)\n",
      "Requirement already satisfied: six>=1.9 in c:\\users\\kolisg\\anaconda3\\lib\\site-packages (from optlang~=1.5->cobra) (1.15.0)\n",
      "Requirement already satisfied: commonmark<0.10.0,>=0.9.0 in c:\\users\\kolisg\\anaconda3\\lib\\site-packages (from rich>=8.0->cobra) (0.9.1)\n",
      "Requirement already satisfied: pygments<3.0.0,>=2.6.0 in c:\\users\\kolisg\\anaconda3\\lib\\site-packages (from rich>=8.0->cobra) (2.6.1)\n",
      "Requirement already satisfied: typing-extensions<4.0.0,>=3.7.4 in c:\\users\\kolisg\\anaconda3\\lib\\site-packages (from rich>=8.0->cobra) (3.10.0.0)\n",
      "Note: you may need to restart the kernel to use updated packages.Requirement already satisfied: colorama<0.5.0,>=0.4.0 in c:\\users\\kolisg\\anaconda3\\lib\\site-packages (from rich>=8.0->cobra) (0.4.3)\n",
      "Requirement already satisfied: pytz>=2017.2 in c:\\users\\kolisg\\anaconda3\\lib\\site-packages (from pandas~=1.0->cobra) (2020.1)\n",
      "Requirement already satisfied: python-dateutil>=2.6.1 in c:\\users\\kolisg\\anaconda3\\lib\\site-packages (from pandas~=1.0->cobra) (2.8.1)\n",
      "Requirement already satisfied: ruamel.yaml.clib>=0.1.2; platform_python_implementation == \"CPython\" and python_version < \"3.10\" in c:\\users\\kolisg\\anaconda3\\lib\\site-packages (from ruamel.yaml~=0.16->cobra) (0.2.2)\n",
      "Requirement already satisfied: httpcore<0.14.0,>=0.13.0 in c:\\users\\kolisg\\anaconda3\\lib\\site-packages (from httpx~=0.14->cobra) (0.13.3)\n",
      "Requirement already satisfied: sniffio in c:\\users\\kolisg\\anaconda3\\lib\\site-packages (from httpx~=0.14->cobra) (1.2.0)\n",
      "Requirement already satisfied: rfc3986[idna2008]<2,>=1.3 in c:\\users\\kolisg\\anaconda3\\lib\\site-packages (from httpx~=0.14->cobra) (1.5.0)\n",
      "Requirement already satisfied: certifi in c:\\users\\kolisg\\anaconda3\\lib\\site-packages (from httpx~=0.14->cobra) (2020.6.20)\n",
      "Requirement already satisfied: mpmath>=0.19 in c:\\users\\kolisg\\anaconda3\\lib\\site-packages (from sympy>=1.0->optlang~=1.5->cobra) (1.1.0)\n",
      "Requirement already satisfied: h11<0.13,>=0.11 in c:\\users\\kolisg\\anaconda3\\lib\\site-packages (from httpcore<0.14.0,>=0.13.0->httpx~=0.14->cobra) (0.12.0)\n",
      "Requirement already satisfied: idna; extra == \"idna2008\" in c:\\users\\kolisg\\anaconda3\\lib\\site-packages (from rfc3986[idna2008]<2,>=1.3->httpx~=0.14->cobra) (2.10)\n",
      "\n"
     ]
    }
   ],
   "source": [
    "pip install cobra"
   ]
  },
  {
   "cell_type": "code",
   "execution_count": 2,
   "metadata": {},
   "outputs": [
    {
     "name": "stdout",
     "output_type": "stream",
     "text": [
      "Requirement already up-to-date: metDataModel in c:\\users\\kolisg\\anaconda3\\lib\\site-packages (0.3.1)\n",
      "Note: you may need to restart the kernel to use updated packages.\n"
     ]
    }
   ],
   "source": [
    "pip install --upgrade metDataModel"
   ]
  },
  {
   "cell_type": "code",
   "execution_count": 3,
   "metadata": {},
   "outputs": [],
   "source": [
    "# https://cobrapy.readthedocs.io/en/latest/io.html#SBML\n",
    "import cobra\n",
    "\n",
    "from metDataModel.core import Compound, Reaction, Pathway, metabolicModel"
   ]
  },
  {
   "cell_type": "code",
   "execution_count": 4,
   "metadata": {},
   "outputs": [
    {
     "data": {
      "text/html": [
       "\n",
       "        <table>\n",
       "            <tr>\n",
       "                <td><strong>Name</strong></td>\n",
       "                <td>M_Fusobacterium_nucleatum_subsp_animalis_3_1_33__44____32__AGORA__32__version__32__1__46__03</td>\n",
       "            </tr><tr>\n",
       "                <td><strong>Memory address</strong></td>\n",
       "                <td>0x02466d114bb0</td>\n",
       "            </tr><tr>\n",
       "                <td><strong>Number of metabolites</strong></td>\n",
       "                <td>917</td>\n",
       "            </tr><tr>\n",
       "                <td><strong>Number of reactions</strong></td>\n",
       "                <td>973</td>\n",
       "            </tr><tr>\n",
       "                <td><strong>Number of groups</strong></td>\n",
       "                <td>69</td>\n",
       "            </tr><tr>\n",
       "                <td><strong>Objective expression</strong></td>\n",
       "                <td>1.0*biomass525 - 1.0*biomass525_reverse_5c178</td>\n",
       "            </tr><tr>\n",
       "                <td><strong>Compartments</strong></td>\n",
       "                <td>Cytoplasm, Extracellular</td>\n",
       "            </tr>\n",
       "          </table>"
      ],
      "text/plain": [
       "<Model M_Fusobacterium_nucleatum_subsp_animalis_3_1_33__44____32__AGORA__32__version__32__1__46__03 at 0x2466d114bb0>"
      ]
     },
     "execution_count": 4,
     "metadata": {},
     "output_type": "execute_result"
    }
   ],
   "source": [
    "# cloned on 2021-05-12 from https://github.com/VirtualMetabolicHuman\n",
    "\n",
    "# source data directory: change on your instance\n",
    "source_dir = \"AGORA\\CurrentVersion\\AGORA_1_03\\AGORA_1_03_sbml\"\n",
    "agora = f\"{source_dir}\\Fusobacterium_nucleatum_subsp_animalis_3_1_33.xml\"\n",
    "\n",
    "model = cobra.io.read_sbml_model(agora)\n",
    "model"
   ]
  },
  {
   "cell_type": "code",
   "execution_count": 5,
   "metadata": {},
   "outputs": [
    {
     "data": {
      "text/plain": [
       "['Fusobacterium nucleatum subsp. animalis 3_1_33',\n",
       " 'C27H51N2O8PRS',\n",
       " -1,\n",
       " '14-methyl-pentadecanoyl-ACP',\n",
       " '14mpentdecACP[c]',\n",
       " '14mpentdecACP[c]',\n",
       " {}]"
      ]
     },
     "execution_count": 5,
     "metadata": {},
     "output_type": "execute_result"
    }
   ],
   "source": [
    "[\n",
    "    model.name,\n",
    "    model.metabolites[33].formula,\n",
    "    model.metabolites[33].charge,\n",
    "    model.metabolites[33].name,\n",
    "    model.metabolites[33].id,\n",
    "    model.metabolites[33]._id,\n",
    "    model.metabolites[33].annotation\n",
    "]"
   ]
  },
  {
   "cell_type": "code",
   "execution_count": 6,
   "metadata": {},
   "outputs": [
    {
     "data": {
      "text/html": [
       "\n",
       "        <table>\n",
       "            <tr>\n",
       "                <td><strong>Reaction identifier</strong></td><td>3HAD80</td>\n",
       "            </tr><tr>\n",
       "                <td><strong>Name</strong></td><td>3-hydroxyacyl-[acyl-carrier-protein] dehydratase (n-C8:0)</td>\n",
       "            </tr><tr>\n",
       "                <td><strong>Memory address</strong></td>\n",
       "                <td>0x02466d2eb8e0</td>\n",
       "            </tr><tr>\n",
       "                <td><strong>Stoichiometry</strong></td>\n",
       "                <td>\n",
       "                    <p style='text-align:right'>3hoctACP[c] --> h2o[c] + toct2eACP[c]</p>\n",
       "                    <p style='text-align:right'>(R)-3-Hydroxyoctanoyl-[acyl-carrier protein] --> Water + trans-Oct-2-enoyl-[acyl-carrier protein]</p>\n",
       "                </td>\n",
       "            </tr><tr>\n",
       "                <td><strong>GPR</strong></td><td>469603.3.peg.782</td>\n",
       "            </tr><tr>\n",
       "                <td><strong>Lower bound</strong></td><td>0.0</td>\n",
       "            </tr><tr>\n",
       "                <td><strong>Upper bound</strong></td><td>1000.0</td>\n",
       "            </tr>\n",
       "        </table>\n",
       "        "
      ],
      "text/plain": [
       "<Reaction 3HAD80 at 0x2466d2eb8e0>"
      ]
     },
     "execution_count": 6,
     "metadata": {},
     "output_type": "execute_result"
    }
   ],
   "source": [
    "model.reactions[33]"
   ]
  },
  {
   "cell_type": "code",
   "execution_count": 7,
   "metadata": {},
   "outputs": [
    {
     "data": {
      "text/plain": [
       "'14mpentdecACP'"
      ]
     },
     "execution_count": 7,
     "metadata": {},
     "output_type": "execute_result"
    }
   ],
   "source": [
    "def metabolite2compound(M):\n",
    "    # convert cobra Metabolite to metDataModel Compound\n",
    "    Cpd = Compound()\n",
    "    Cpd.src_id = M.id\n",
    "    Cpd.id = M.id.split(\"[\")[0]\n",
    "    Cpd.name = M.name\n",
    "    Cpd.charge = M.charge\n",
    "    Cpd.charged_formula = M.formula\n",
    "    Cpd.db_ids = M.annotation\n",
    "    return Cpd\n",
    "\n",
    "metabolite2compound(model.metabolites[33]).id"
   ]
  },
  {
   "cell_type": "code",
   "execution_count": 8,
   "metadata": {},
   "outputs": [
    {
     "name": "stdout",
     "output_type": "stream",
     "text": [
      "total,  917 816\n"
     ]
    }
   ],
   "source": [
    "# list of Compounds\n",
    "myCpds = []\n",
    "anno = {}\n",
    "for M in model.metabolites:\n",
    "    anno[M.id.split(\"[\")[0]] = M.annotation\n",
    "    myCpds.append(metabolite2compound(M))\n",
    "    \n",
    "print(\"total, \", len(myCpds), len(anno))"
   ]
  },
  {
   "cell_type": "code",
   "execution_count": 9,
   "metadata": {},
   "outputs": [
    {
     "name": "stdout",
     "output_type": "stream",
     "text": [
      "816\n"
     ]
    }
   ],
   "source": [
    "# de-compartmentalize metabolites\n",
    "\n",
    "# this overrides repeated ids\n",
    "myDict = {}\n",
    "for M in myCpds: myDict[M.id] = M\n",
    "print(len(myDict))\n",
    "\n",
    "## Compounds to port\n",
    "AGORA_Compounds = list(myDict.values()) "
   ]
  },
  {
   "cell_type": "code",
   "execution_count": 10,
   "metadata": {},
   "outputs": [
    {
     "data": {
      "text/plain": [
       "['AMOPBHL', ['amopbut_L', 'h'], ['3a2opp', 'co2']]"
      ]
     },
     "execution_count": 10,
     "metadata": {},
     "output_type": "execute_result"
    }
   ],
   "source": [
    "## this is model dependent, as some models use symbols other than \"[\" !!!\n",
    "def mclean(x): return x.split(\"[\")[0]\n",
    "\n",
    "# port reactions\n",
    "def port_reaction(R):\n",
    "    new = Reaction()\n",
    "    new.id = R.id\n",
    "    new.reactants = [mclean(m.id) for m in R.reactants] \n",
    "    new.products = [mclean(m.id) for m in R.products] \n",
    "    return new\n",
    "\n",
    "test199 = port_reaction(model.reactions[199])\n",
    "[test199.id,\n",
    " test199.reactants,\n",
    " test199.products,\n",
    "]"
   ]
  },
  {
   "cell_type": "code",
   "execution_count": 11,
   "metadata": {},
   "outputs": [
    {
     "name": "stdout",
     "output_type": "stream",
     "text": [
      "973\n"
     ]
    }
   ],
   "source": [
    "# this is the compartmentalized version of reactions\n",
    "# Reactions to port\n",
    "AGORA_Reactions = []\n",
    "for R in model.reactions:\n",
    "    AGORA_Reactions.append(port_reaction(R))\n",
    "\n",
    "print(len(AGORA_Reactions))"
   ]
  },
  {
   "cell_type": "code",
   "execution_count": 12,
   "metadata": {},
   "outputs": [
    {
     "data": {
      "text/plain": [
       "['group34', 'Nitrogen metabolism', ['CBMTHL2']]"
      ]
     },
     "execution_count": 12,
     "metadata": {},
     "output_type": "execute_result"
    }
   ],
   "source": [
    "# pathways, using group as pathway from AGORA. Other models may use subsystem etc.\n",
    "\n",
    "def port_pathway(P):\n",
    "    new = Pathway()\n",
    "    new.id = P.id\n",
    "    new.source = ['AGORA',]\n",
    "    new.name = P.name\n",
    "    new.list_of_reactions = [x.id for x in P.members]\n",
    "    return new\n",
    "\n",
    "p = port_pathway(model.groups[33])\n",
    "\n",
    "[p.id, p.name, p.list_of_reactions]"
   ]
  },
  {
   "cell_type": "code",
   "execution_count": 13,
   "metadata": {},
   "outputs": [
    {
     "data": {
      "text/plain": [
       "69"
      ]
     },
     "execution_count": 13,
     "metadata": {},
     "output_type": "execute_result"
    }
   ],
   "source": [
    "## Pathways to port\n",
    "AGORA_Pathways = []\n",
    "for P in model.groups:\n",
    "    AGORA_Pathways.append(port_pathway(P))\n",
    "\n",
    "len(AGORA_Pathways)"
   ]
  },
  {
   "cell_type": "code",
   "execution_count": 15,
   "metadata": {},
   "outputs": [],
   "source": [
    "note = \"\"\"AGORA cloned from https://github.com/VirtualMetabolicHuman, 2021-05-12.\n",
    "Compounds are decompartmentalized, but Reactions are not. \n",
    "The redundant metabolites will be merged ad hoc when pathways and reactions are pulled.\n",
    "\"\"\"\n",
    "\n",
    "## metabolicModel to export\n",
    "MM = metabolicModel()\n",
    "MM.id = f\"az_AGORA_20210512_{model.name}\"\n",
    "MM.meta_data = {\n",
    "            'species': model.name,\n",
    "            'version': '',\n",
    "            'sources': ['https://github.com/VirtualMetabolicHuman, retrieved 2021-05-12'],\n",
    "            'status': '',\n",
    "            'last_update': '20210512',\n",
    "            'note': note,\n",
    "        }\n",
    "MM.list_of_pathways = [P.serialize() for P in AGORA_Pathways]\n",
    "MM.list_of_reactions = [R.serialize() for R in  AGORA_Reactions]\n",
    "MM.list_of_compounds = [C.serialize() for C in AGORA_Compounds]"
   ]
  },
  {
   "cell_type": "code",
   "execution_count": 18,
   "metadata": {},
   "outputs": [
    {
     "data": {
      "text/plain": [
       "['az_AGORA_20210512_Fusobacterium nucleatum subsp. animalis 3_1_33',\n",
       " [{'id': 'group1',\n",
       "   'name': 'Alanine and aspartate metabolism',\n",
       "   'list_of_reactions': ['ALAALA',\n",
       "    'ALAR',\n",
       "    'ARGSL',\n",
       "    'ARGSSr',\n",
       "    'ASNS2',\n",
       "    'ASPT',\n",
       "    'ASPTA',\n",
       "    'r0127']},\n",
       "  {'id': 'group2',\n",
       "   'name': 'Aminosugar metabolism',\n",
       "   'list_of_reactions': ['AGDC',\n",
       "    'G6PDA',\n",
       "    'GF6PTA',\n",
       "    'UAG4E',\n",
       "    'UAGAAT',\n",
       "    'UAGCVT_r',\n",
       "    'UAGDP']}],\n",
       " [{'id': '12PPDSDH', 'reactants': ['12ppd_S'], 'products': ['h2o', 'ppal']},\n",
       "  {'id': '15DAPt', 'reactants': ['15dap'], 'products': ['15dap']}],\n",
       " [{'id': '3hbcoa_R',\n",
       "   'name': '(R)-3-hydroxybutanoyl-CoA(4-)',\n",
       "   'identifiers': {'hmdb': 'HMDB01166',\n",
       "    'kegg.compound': 'C03561',\n",
       "    'pubchem.compound': '11966146'},\n",
       "   'neutral_formula': '',\n",
       "   'charge': -4,\n",
       "   'charged_formula': 'C25H38N7O18P3S',\n",
       "   'neutral_mono_mass': 0.0,\n",
       "   'SMILES': '',\n",
       "   'inchi': ''},\n",
       "  {'id': '3hdcoa',\n",
       "   'name': '(S)-3-Hydroxydecanoyl-CoA',\n",
       "   'identifiers': {'hmdb': 'HMDB03938',\n",
       "    'kegg.compound': 'C05264',\n",
       "    'pubchem.compound': '11966158'},\n",
       "   'neutral_formula': '',\n",
       "   'charge': -4,\n",
       "   'charged_formula': 'C31H50N7O18P3S',\n",
       "   'neutral_mono_mass': 0.0,\n",
       "   'SMILES': '',\n",
       "   'inchi': ''}]]"
      ]
     },
     "execution_count": 18,
     "metadata": {},
     "output_type": "execute_result"
    }
   ],
   "source": [
    "# check output\n",
    "[\n",
    "    MM.id,\n",
    "    MM.list_of_pathways[:2], \n",
    "    MM.list_of_reactions[:2], \n",
    "    MM.list_of_compounds[100:102],\n",
    "]"
   ]
  },
  {
   "cell_type": "code",
   "execution_count": null,
   "metadata": {},
   "outputs": [],
   "source": [
    "import pickle\n",
    "\n",
    "# pickled object can be imported later, and for Database upload\n",
    "with open('metabolicModel_AGORA_20210512.pickle', 'wb') as f:\n",
    "    pickle.dump(MM.serialize(), f, pickle.HIGHEST_PROTOCOL)"
   ]
  },
  {
   "cell_type": "code",
   "execution_count": null,
   "metadata": {},
   "outputs": [],
   "source": [
    "import json\n",
    "\n",
    "s = json.JSONEncoder().encode(MM.serialize())\n",
    "with open(\"metabolicModel_AGORA_20210512.json\", \"w\") as O:\n",
    "    O.write(s)"
   ]
  },
  {
   "cell_type": "markdown",
   "metadata": {},
   "source": [
    "## Summary\n",
    "\n",
    "This ports reactions, pathways and compounds. Gene and enzyme information is not included. They should be when someone has time to do it.\n",
    "\n",
    "The exported pickles can be re-imported and uploaded to database easily.\n",
    "\n",
    "This notebook, the pickle file and the JSON file go to GitHub repo (https://github.com/shuzhao-li/Azimuth)."
   ]
  },
  {
   "cell_type": "code",
   "execution_count": null,
   "metadata": {},
   "outputs": [],
   "source": []
  }
 ],
 "metadata": {
  "kernelspec": {
   "display_name": "Python 3",
   "language": "python",
   "name": "python3"
  },
  "language_info": {
   "codemirror_mode": {
    "name": "ipython",
    "version": 3
   },
   "file_extension": ".py",
   "mimetype": "text/x-python",
   "name": "python",
   "nbconvert_exporter": "python",
   "pygments_lexer": "ipython3",
   "version": "3.8.3"
  }
 },
 "nbformat": 4,
 "nbformat_minor": 4
}
