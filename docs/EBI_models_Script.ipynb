{
 "cells": [
  {
   "cell_type": "code",
   "execution_count": 11,
   "metadata": {},
   "outputs": [
    {
     "name": "stdout",
     "output_type": "stream",
     "text": [
      "Requirement already satisfied: cobra in /Users/pbais/opt/anaconda3/lib/python3.7/site-packages (0.4.0b7)\n",
      "Requirement already satisfied: six in /Users/pbais/opt/anaconda3/lib/python3.7/site-packages (from cobra) (1.14.0)\n",
      "Note: you may need to restart the kernel to use updated packages.\n"
     ]
    }
   ],
   "source": [
    "pip install cobra"
   ]
  },
  {
   "cell_type": "code",
   "execution_count": 12,
   "metadata": {},
   "outputs": [
    {
     "name": "stdout",
     "output_type": "stream",
     "text": [
      "Requirement already up-to-date: metDataModel in /Users/pbais/opt/anaconda3/lib/python3.7/site-packages (0.3.1)\n",
      "Note: you may need to restart the kernel to use updated packages.\n"
     ]
    }
   ],
   "source": [
    "pip install --upgrade metDataModel"
   ]
  },
  {
   "cell_type": "markdown",
   "metadata": {},
   "source": [
    "# https://cobrapy.readthedocs.io/en/latest/io.html#SBML\n",
    "import cobra\n",
    "\n",
    "from metDataModel.core import Compound, Reaction, Pathway, metabolicModel"
   ]
  },
  {
   "cell_type": "code",
   "execution_count": 10,
   "metadata": {},
   "outputs": [],
   "source": [
    "import os\n",
    "import cobra\n",
    "import json\n",
    "import pickle"
   ]
  },
  {
   "cell_type": "code",
   "execution_count": null,
   "metadata": {},
   "outputs": [],
   "source": [
    "\n",
    "from metDataModel.core import Compound, Reaction, Pathway, metabolicModel\n",
    "\n",
    "def metabolite2compound(M):\n",
    "    # convert cobra Metabolite to metDataModel Compound\n",
    "    Cpd = Compound()\n",
    "    Cpd.src_id = M.id\n",
    "    Cpd.id = M.id.split(\"[\")[0]\n",
    "    Cpd.name = M.name\n",
    "    Cpd.charge = M.charge\n",
    "    Cpd.charged_formula = M.formula\n",
    "    Cpd.db_ids = M.notes\n",
    "    mydict = M.notes   ## other databaseIDs  are in the notes tag\n",
    "    #print(M.notes['SMILES'])\n",
    "    Cpd.SMILES= mydict.get(\"SMILES\",None)\n",
    "    Cpd.inchi= mydict.get(\"INCHI\",None)\n",
    "    \n",
    "    return Cpd\n",
    "\n",
    "\n",
    "## this is model dependent, as some models use symbols other than \"[\" !!!\n",
    "def mclean(x): return x.split(\"[\")[0]\n",
    "\n",
    "\n",
    "# port reactions\n",
    "def port_reaction(R):\n",
    "    new = Reaction()\n",
    "    new.id = R.id\n",
    "    new.reactants = [mclean(m.id) for m in R.reactants] \n",
    "    new.products = [mclean(m.id) for m in R.products] \n",
    "    return new\n",
    "\n",
    "\n",
    "# pathways, using group as pathway from EBI. Other models may use subsystem etc.\n",
    "def port_pathway(P):\n",
    "    new = Pathway()\n",
    "    new.id = P.id\n",
    "    new.source = ['EBI',]\n",
    "    new.name = P.name\n",
    "    new.list_of_reactions = [x.id for x in P.members]\n",
    "    return new\n",
    "\n",
    "# source data is cloned from:\n",
    "# https://github.com/VirtualMetabolicHuman \n",
    "# 2021-05-12\n",
    "input_directory = \"/Users/pbais/Desktop/Projects/ShuzaoLi/Azimuth/EBI_XML/\"\n",
    "\n",
    "output_directory = \"/Users/pbais/Desktop/Projects/ShuzaoLi/Azimuth/azimuth/metabolic_models/\"\n",
    "\n",
    "for filename in os.listdir(input_directory):\n",
    "    if filename.endswith(\".xml\"):\n",
    "        #print(filename)\n",
    "        f_g = os.path.splitext(filename)[0]\n",
    "        \n",
    "        EBI_input = os.path.join(input_directory, filename)\n",
    "        #print(EBI_input)\n",
    "        model = cobra.io.read_sbml_model(EBI_input)\n",
    "        print(f_g)\n",
    "        \n",
    "        cpds = []\n",
    "        anno = {}\n",
    "\n",
    "        for M in model.metabolites:\n",
    "            anno[M.id.split(\"[]\")[0]] = M.notes\n",
    "            cpds.append(metabolite2compound(M))\n",
    "            \n",
    "\n",
    "        my_dict = {}\n",
    "        for M in cpds: my_dict[M.id] = M\n",
    "\n",
    "        ## compounds to port\n",
    "        EBI_Compounds = list(my_dict.values())\n",
    "\n",
    "        # this is the compartmentalized version of reactions\n",
    "        \n",
    "        # reactions to port\n",
    "        EBI_reactions = []\n",
    "        for R in model.reactions:\n",
    "            EBI_reactions.append(port_reaction(R))\n",
    "        \n",
    "            \n",
    "\n",
    "        note = \"\"\"EBI downloaded from https://www.metaboanalyst.ca/faces/docs/Models.xhtml, 2021-06-02\"\"\"\n",
    "        \n",
    "        ## metabolicModel to export\n",
    "        MM = metabolicModel()\n",
    "        MM.id = 'az_EBI_20210602_' + f_g\n",
    "        MM.meta_data = {\n",
    "            'species': f_g,\n",
    "            'version': '',\n",
    "            'sources': ['https://www.metaboanalyst.ca/faces/docs/Models.xhtml, retrieved 2021-06-02'],\n",
    "            'status': '',\n",
    "            'last_update': '20210602',\n",
    "            'note': note,\n",
    "        }\n",
    "       # MM.list_of_pathways = [P.serialize() for P in EBI_pathways]\n",
    "        MM.list_of_reactions = [R.serialize() for R in  EBI_reactions]\n",
    "        MM.list_of_compounds = [C.serialize() for C in EBI_Compounds]\n",
    "        \n",
    "        #print(filename)\n",
    "        output_pickle_file = 'metabolicModel_EBI_20210602_' + f_g + '.pickle'\n",
    "        # pickled object can be imported later, and for Database upload\n",
    "        EBI_output_pickle = os.path.join(output_directory, 'pickle', output_pickle_file)\n",
    "        with open(EBI_output_pickle, 'wb') as f:\n",
    "            pickle.dump(MM.serialize(), f, pickle.HIGHEST_PROTOCOL)\n",
    "\n",
    "        output_json_file = 'metabolicModel_EBI_20210602_' + f_g  + '.json'\n",
    "        EBI_output_json = os.path.join(output_directory, 'json', output_json_file)\n",
    "        s = json.JSONEncoder().encode(MM.serialize())\n",
    "        with open(EBI_output_json, \"w\") as O:\n",
    "            O.write(s)\n",
    "    else:\n",
    "        continue"
   ]
  },
  {
   "cell_type": "code",
   "execution_count": null,
   "metadata": {},
   "outputs": [],
   "source": []
  }
 ],
 "metadata": {
  "kernelspec": {
   "display_name": "Python 3",
   "language": "python",
   "name": "python3"
  },
  "language_info": {
   "codemirror_mode": {
    "name": "ipython",
    "version": 3
   },
   "file_extension": ".py",
   "mimetype": "text/x-python",
   "name": "python",
   "nbconvert_exporter": "python",
   "pygments_lexer": "ipython3",
   "version": "3.7.6"
  }
 },
 "nbformat": 4,
 "nbformat_minor": 4
}
